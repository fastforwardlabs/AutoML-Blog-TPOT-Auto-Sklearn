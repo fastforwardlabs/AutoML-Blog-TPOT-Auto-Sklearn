{
 "cells": [
  {
   "cell_type": "code",
   "execution_count": 1,
   "metadata": {},
   "outputs": [],
   "source": [
    "####\n",
    "# This notebook predicts housing prices in city of London using dataset provided by HM Land Registry \n",
    "# Objective is to build a baseline model and compare against open-source AutoML libraries\n",
    "#\n",
    "# Author : Harshal Patil\n",
    "####"
   ]
  },
  {
   "cell_type": "code",
   "execution_count": 2,
   "metadata": {},
   "outputs": [],
   "source": [
    "#import necessary modules\n",
    "import numpy as np\n",
    "import pandas as pd\n",
    "import scipy as sc\n",
    "import sklearn as skl\n",
    "import matplotlib.pyplot as plt\n",
    "import math as mth\n",
    "from sklearn.linear_model import LinearRegression\n",
    "from sklearn.metrics import mean_squared_error, r2_score\n",
    "from sklearn.model_selection import train_test_split\n",
    "\n",
    "%matplotlib inline"
   ]
  },
  {
   "cell_type": "code",
   "execution_count": 3,
   "metadata": {},
   "outputs": [],
   "source": [
    "#a tiny function to print top and bottom row from dataframe.\n",
    "#good way to quickly inspect dataframe\n",
    "def df2row(x,lines=1):\n",
    "    return pd.concat([x.head(lines),x.tail(lines)])"
   ]
  },
  {
   "cell_type": "code",
   "execution_count": 10,
   "metadata": {},
   "outputs": [
    {
     "name": "stdout",
     "output_type": "stream",
     "text": [
      "/Users/harshalpatil/Desktop\n",
      "  % Total    % Received % Xferd  Average Speed   Time    Time     Time  Current\n",
      "                                 Dload  Upload   Total   Spent    Left  Speed\n",
      "  0     0    0     0    0     0      0      0 --:--:-- --:--:-- --:--:--     0\n"
     ]
    }
   ],
   "source": [
    "###### LONDON HOUSING PRICE PREDICTION\n",
    "# Data Location:\n",
    "# https://data.gov.uk/dataset/4c9b7641-cf73-4fd9-869a-4bfeed6d440e/hm-land-registry-price-paid-data\n",
    "#\n",
    "# Data for 2018 Housing Transactions:\n",
    "# http://prod.publicdata.landregistry.gov.uk.s3-website-eu-west-1.amazonaws.com/pp-2018.csv\n",
    "\n",
    "#!pwd\n",
    "# Download file on Linux\n",
    "#!wget http://prod.publicdata.landregistry.gov.uk.s3-website-eu-west-1.amazonaws.com/pp-2018.csv\n",
    "\n",
    "#macOS    \n",
    "#!curl -O http://prod.publicdata.landregistry.gov.uk.s3-website-eu-west-1.amazonaws.com/pp-2018.csv\n"
   ]
  },
  {
   "cell_type": "code",
   "execution_count": 11,
   "metadata": {},
   "outputs": [
    {
     "name": "stdout",
     "output_type": "stream",
     "text": [
      "/Users/harshalpatil/Desktop\n",
      "  % Total    % Received % Xferd  Average Speed   Time    Time     Time  Current\n",
      "                                 Dload  Upload   Total   Spent    Left  Speed\n",
      "100  101k  100  101k    0     0   761k      0 --:--:-- --:--:-- --:--:--  761k\n"
     ]
    }
   ],
   "source": [
    "# the heading definitions are at \n",
    "#https://www.gov.uk/guidance/about-the-price-paid-data#explanations-of-column-headers-in-the-ppd\n",
    "#download the heading definitions as reference in this project\n",
    "\n",
    "#!pwd\n",
    "#!wget https://www.gov.uk/guidance/about-the-price-paid-data#explanations-of-column-headers-in-the-ppd\n",
    "\n",
    "#macOS\n",
    "#!curl https://www.gov.uk/guidance/about-the-price-paid-data#explanations-of-column-headers-in-the-ppd > dataexplain.html"
   ]
  },
  {
   "cell_type": "code",
   "execution_count": 12,
   "metadata": {},
   "outputs": [],
   "source": [
    "# check raw file lines - there is no heading present\n",
    "#\n",
    "#!cat pp-2018.csv | head -n5"
   ]
  },
  {
   "cell_type": "code",
   "execution_count": 9,
   "metadata": {},
   "outputs": [],
   "source": [
    "###### Exploratory Data Analysis (EDA)"
   ]
  },
  {
   "cell_type": "code",
   "execution_count": 14,
   "metadata": {},
   "outputs": [
    {
     "name": "stdout",
     "output_type": "stream",
     "text": [
      "Dataset loaded in memory\n",
      "Dataset rows x columns (1023150, 15)\n"
     ]
    }
   ],
   "source": [
    "#read dataset in memory\n",
    "#assign column names as per data definition document provided (names are missing in csv)\n",
    "#parse dates and set a datetimeindex in dataframe using it - to segment dataset by dates easily\n",
    "file = \"pp-2018.csv\"\n",
    "df = pd.read_csv(file,names=[\"id\",\"price\",\"date\",\"postcode\",\"type\",\"new\",\"lease\",\"paon\",\"saon\",\n",
    "                                         \"street\",\"locality\",\"town\",\"district\",\"county\",\"category\",\"status\"],\n",
    "                parse_dates=[\"date\"],index_col=\"date\")\n",
    "\n",
    "print(\"Dataset loaded in memory\")\n",
    "print(\"Dataset rows x columns\",df.shape)"
   ]
  },
  {
   "cell_type": "code",
   "execution_count": 15,
   "metadata": {},
   "outputs": [
    {
     "data": {
      "text/html": [
       "<div>\n",
       "<style scoped>\n",
       "    .dataframe tbody tr th:only-of-type {\n",
       "        vertical-align: middle;\n",
       "    }\n",
       "\n",
       "    .dataframe tbody tr th {\n",
       "        vertical-align: top;\n",
       "    }\n",
       "\n",
       "    .dataframe thead th {\n",
       "        text-align: right;\n",
       "    }\n",
       "</style>\n",
       "<table border=\"1\" class=\"dataframe\">\n",
       "  <thead>\n",
       "    <tr style=\"text-align: right;\">\n",
       "      <th></th>\n",
       "      <th>id</th>\n",
       "      <th>price</th>\n",
       "      <th>postcode</th>\n",
       "      <th>type</th>\n",
       "      <th>new</th>\n",
       "      <th>lease</th>\n",
       "      <th>paon</th>\n",
       "      <th>saon</th>\n",
       "      <th>street</th>\n",
       "      <th>locality</th>\n",
       "      <th>town</th>\n",
       "      <th>district</th>\n",
       "      <th>county</th>\n",
       "      <th>category</th>\n",
       "      <th>status</th>\n",
       "    </tr>\n",
       "    <tr>\n",
       "      <th>date</th>\n",
       "      <th></th>\n",
       "      <th></th>\n",
       "      <th></th>\n",
       "      <th></th>\n",
       "      <th></th>\n",
       "      <th></th>\n",
       "      <th></th>\n",
       "      <th></th>\n",
       "      <th></th>\n",
       "      <th></th>\n",
       "      <th></th>\n",
       "      <th></th>\n",
       "      <th></th>\n",
       "      <th></th>\n",
       "      <th></th>\n",
       "    </tr>\n",
       "  </thead>\n",
       "  <tbody>\n",
       "    <tr>\n",
       "      <td>2018-05-25</td>\n",
       "      <td>{7011B109-D879-8ED6-E053-6B04A8C075C1}</td>\n",
       "      <td>1205000</td>\n",
       "      <td>SW13 0NZ</td>\n",
       "      <td>T</td>\n",
       "      <td>N</td>\n",
       "      <td>F</td>\n",
       "      <td>6</td>\n",
       "      <td>NaN</td>\n",
       "      <td>CHARLES STREET</td>\n",
       "      <td>NaN</td>\n",
       "      <td>LONDON</td>\n",
       "      <td>RICHMOND UPON THAMES</td>\n",
       "      <td>GREATER LONDON</td>\n",
       "      <td>A</td>\n",
       "      <td>A</td>\n",
       "    </tr>\n",
       "    <tr>\n",
       "      <td>2018-10-31</td>\n",
       "      <td>{7C2D0700-4940-4963-E053-6B04A8C07B97}</td>\n",
       "      <td>2461000</td>\n",
       "      <td>SW15 6NW</td>\n",
       "      <td>S</td>\n",
       "      <td>N</td>\n",
       "      <td>F</td>\n",
       "      <td>16</td>\n",
       "      <td>NaN</td>\n",
       "      <td>CAMPION ROAD</td>\n",
       "      <td>NaN</td>\n",
       "      <td>LONDON</td>\n",
       "      <td>WANDSWORTH</td>\n",
       "      <td>GREATER LONDON</td>\n",
       "      <td>A</td>\n",
       "      <td>A</td>\n",
       "    </tr>\n",
       "  </tbody>\n",
       "</table>\n",
       "</div>"
      ],
      "text/plain": [
       "                                                id    price  postcode type  \\\n",
       "date                                                                         \n",
       "2018-05-25  {7011B109-D879-8ED6-E053-6B04A8C075C1}  1205000  SW13 0NZ    T   \n",
       "2018-10-31  {7C2D0700-4940-4963-E053-6B04A8C07B97}  2461000  SW15 6NW    S   \n",
       "\n",
       "           new lease paon saon          street locality    town  \\\n",
       "date                                                              \n",
       "2018-05-25   N     F    6  NaN  CHARLES STREET      NaN  LONDON   \n",
       "2018-10-31   N     F   16  NaN    CAMPION ROAD      NaN  LONDON   \n",
       "\n",
       "                        district          county category status  \n",
       "date                                                              \n",
       "2018-05-25  RICHMOND UPON THAMES  GREATER LONDON        A      A  \n",
       "2018-10-31            WANDSWORTH  GREATER LONDON        A      A  "
      ]
     },
     "execution_count": 15,
     "metadata": {},
     "output_type": "execute_result"
    }
   ],
   "source": [
    "#cut the memory requirement - filter the dataset immediately to only focus on London data\n",
    "#city/town (i.e. the fieldname town) has \"london\" in it. \n",
    "#Adjust case to ensure all data picked up.\n",
    "filter_london = df.town.apply(lambda x: \"london\" in x.lower())\n",
    "df = df[filter_london]\n",
    "#check top and bottom row in the dataframe\n",
    "df2row(df)\n"
   ]
  },
  {
   "cell_type": "code",
   "execution_count": 16,
   "metadata": {},
   "outputs": [
    {
     "data": {
      "text/html": [
       "<div>\n",
       "<style scoped>\n",
       "    .dataframe tbody tr th:only-of-type {\n",
       "        vertical-align: middle;\n",
       "    }\n",
       "\n",
       "    .dataframe tbody tr th {\n",
       "        vertical-align: top;\n",
       "    }\n",
       "\n",
       "    .dataframe thead th {\n",
       "        text-align: right;\n",
       "    }\n",
       "</style>\n",
       "<table border=\"1\" class=\"dataframe\">\n",
       "  <thead>\n",
       "    <tr style=\"text-align: right;\">\n",
       "      <th>col_0</th>\n",
       "      <th>1</th>\n",
       "      <th>2</th>\n",
       "      <th>3</th>\n",
       "      <th>4</th>\n",
       "      <th>5</th>\n",
       "      <th>6</th>\n",
       "      <th>7</th>\n",
       "      <th>8</th>\n",
       "      <th>9</th>\n",
       "      <th>10</th>\n",
       "      <th>11</th>\n",
       "      <th>12</th>\n",
       "      <th>All</th>\n",
       "    </tr>\n",
       "    <tr>\n",
       "      <th>row_0</th>\n",
       "      <th></th>\n",
       "      <th></th>\n",
       "      <th></th>\n",
       "      <th></th>\n",
       "      <th></th>\n",
       "      <th></th>\n",
       "      <th></th>\n",
       "      <th></th>\n",
       "      <th></th>\n",
       "      <th></th>\n",
       "      <th></th>\n",
       "      <th></th>\n",
       "      <th></th>\n",
       "    </tr>\n",
       "  </thead>\n",
       "  <tbody>\n",
       "    <tr>\n",
       "      <td>2018</td>\n",
       "      <td>5058</td>\n",
       "      <td>4725</td>\n",
       "      <td>5573</td>\n",
       "      <td>4850</td>\n",
       "      <td>5223</td>\n",
       "      <td>6205</td>\n",
       "      <td>6150</td>\n",
       "      <td>6288</td>\n",
       "      <td>5605</td>\n",
       "      <td>5709</td>\n",
       "      <td>5803</td>\n",
       "      <td>5002</td>\n",
       "      <td>66191</td>\n",
       "    </tr>\n",
       "    <tr>\n",
       "      <td>All</td>\n",
       "      <td>5058</td>\n",
       "      <td>4725</td>\n",
       "      <td>5573</td>\n",
       "      <td>4850</td>\n",
       "      <td>5223</td>\n",
       "      <td>6205</td>\n",
       "      <td>6150</td>\n",
       "      <td>6288</td>\n",
       "      <td>5605</td>\n",
       "      <td>5709</td>\n",
       "      <td>5803</td>\n",
       "      <td>5002</td>\n",
       "      <td>66191</td>\n",
       "    </tr>\n",
       "  </tbody>\n",
       "</table>\n",
       "</div>"
      ],
      "text/plain": [
       "col_0     1     2     3     4     5     6     7     8     9    10    11    12  \\\n",
       "row_0                                                                           \n",
       "2018   5058  4725  5573  4850  5223  6205  6150  6288  5605  5709  5803  5002   \n",
       "All    5058  4725  5573  4850  5223  6205  6150  6288  5605  5709  5803  5002   \n",
       "\n",
       "col_0    All  \n",
       "row_0         \n",
       "2018   66191  \n",
       "All    66191  "
      ]
     },
     "execution_count": 16,
     "metadata": {},
     "output_type": "execute_result"
    }
   ],
   "source": [
    "#check data coverage across years and months\n",
    "pd.crosstab(df.index.year, df.index.month,margins=True)"
   ]
  },
  {
   "cell_type": "code",
   "execution_count": 17,
   "metadata": {},
   "outputs": [
    {
     "data": {
      "text/html": [
       "<div>\n",
       "<style scoped>\n",
       "    .dataframe tbody tr th:only-of-type {\n",
       "        vertical-align: middle;\n",
       "    }\n",
       "\n",
       "    .dataframe tbody tr th {\n",
       "        vertical-align: top;\n",
       "    }\n",
       "\n",
       "    .dataframe thead th {\n",
       "        text-align: right;\n",
       "    }\n",
       "</style>\n",
       "<table border=\"1\" class=\"dataframe\">\n",
       "  <thead>\n",
       "    <tr style=\"text-align: right;\">\n",
       "      <th></th>\n",
       "      <th>type</th>\n",
       "      <th>new</th>\n",
       "      <th>lease</th>\n",
       "      <th>category</th>\n",
       "      <th>status</th>\n",
       "    </tr>\n",
       "  </thead>\n",
       "  <tbody>\n",
       "    <tr>\n",
       "      <td>A</td>\n",
       "      <td>NaN</td>\n",
       "      <td>NaN</td>\n",
       "      <td>NaN</td>\n",
       "      <td>51342.0</td>\n",
       "      <td>66191.0</td>\n",
       "    </tr>\n",
       "    <tr>\n",
       "      <td>B</td>\n",
       "      <td>NaN</td>\n",
       "      <td>NaN</td>\n",
       "      <td>NaN</td>\n",
       "      <td>14849.0</td>\n",
       "      <td>NaN</td>\n",
       "    </tr>\n",
       "    <tr>\n",
       "      <td>D</td>\n",
       "      <td>1034.0</td>\n",
       "      <td>NaN</td>\n",
       "      <td>NaN</td>\n",
       "      <td>NaN</td>\n",
       "      <td>NaN</td>\n",
       "    </tr>\n",
       "    <tr>\n",
       "      <td>F</td>\n",
       "      <td>42315.0</td>\n",
       "      <td>NaN</td>\n",
       "      <td>20374.0</td>\n",
       "      <td>NaN</td>\n",
       "      <td>NaN</td>\n",
       "    </tr>\n",
       "    <tr>\n",
       "      <td>L</td>\n",
       "      <td>NaN</td>\n",
       "      <td>NaN</td>\n",
       "      <td>45817.0</td>\n",
       "      <td>NaN</td>\n",
       "      <td>NaN</td>\n",
       "    </tr>\n",
       "    <tr>\n",
       "      <td>N</td>\n",
       "      <td>NaN</td>\n",
       "      <td>52767.0</td>\n",
       "      <td>NaN</td>\n",
       "      <td>NaN</td>\n",
       "      <td>NaN</td>\n",
       "    </tr>\n",
       "    <tr>\n",
       "      <td>O</td>\n",
       "      <td>5571.0</td>\n",
       "      <td>NaN</td>\n",
       "      <td>NaN</td>\n",
       "      <td>NaN</td>\n",
       "      <td>NaN</td>\n",
       "    </tr>\n",
       "    <tr>\n",
       "      <td>S</td>\n",
       "      <td>3696.0</td>\n",
       "      <td>NaN</td>\n",
       "      <td>NaN</td>\n",
       "      <td>NaN</td>\n",
       "      <td>NaN</td>\n",
       "    </tr>\n",
       "    <tr>\n",
       "      <td>T</td>\n",
       "      <td>13575.0</td>\n",
       "      <td>NaN</td>\n",
       "      <td>NaN</td>\n",
       "      <td>NaN</td>\n",
       "      <td>NaN</td>\n",
       "    </tr>\n",
       "    <tr>\n",
       "      <td>Y</td>\n",
       "      <td>NaN</td>\n",
       "      <td>13424.0</td>\n",
       "      <td>NaN</td>\n",
       "      <td>NaN</td>\n",
       "      <td>NaN</td>\n",
       "    </tr>\n",
       "  </tbody>\n",
       "</table>\n",
       "</div>"
      ],
      "text/plain": [
       "      type      new    lease  category   status\n",
       "A      NaN      NaN      NaN   51342.0  66191.0\n",
       "B      NaN      NaN      NaN   14849.0      NaN\n",
       "D   1034.0      NaN      NaN       NaN      NaN\n",
       "F  42315.0      NaN  20374.0       NaN      NaN\n",
       "L      NaN      NaN  45817.0       NaN      NaN\n",
       "N      NaN  52767.0      NaN       NaN      NaN\n",
       "O   5571.0      NaN      NaN       NaN      NaN\n",
       "S   3696.0      NaN      NaN       NaN      NaN\n",
       "T  13575.0      NaN      NaN       NaN      NaN\n",
       "Y      NaN  13424.0      NaN       NaN      NaN"
      ]
     },
     "execution_count": 17,
     "metadata": {},
     "output_type": "execute_result"
    }
   ],
   "source": [
    "#do quick check on unique values counts in categorical fields\n",
    "#there is good spread across values in type, new, lease \n",
    "df.loc[:,[\"type\",\"new\",\"lease\",\"category\",\"status\"]].apply(pd.Series.value_counts)"
   ]
  },
  {
   "cell_type": "code",
   "execution_count": 18,
   "metadata": {},
   "outputs": [
    {
     "data": {
      "image/png": "[encoded data removed]",
      "text/plain": [
       "<Figure size 432x288 with 1 Axes>"
      ]
     },
     "metadata": {
      "needs_background": "light"
     },
     "output_type": "display_data"
    },
    {
     "data": {
      "image/png": "[encoded data removed]",
      "text/plain": [
       "<Figure size 432x288 with 1 Axes>"
      ]
     },
     "metadata": {
      "needs_background": "light"
     },
     "output_type": "display_data"
    },
    {
     "data": {
      "image/png": "[encoded data removed]",
      "text/plain": [
       "<Figure size 432x288 with 1 Axes>"
      ]
     },
     "metadata": {
      "needs_background": "light"
     },
     "output_type": "display_data"
    },
    {
     "data": {
      "image/png": "[encoded data removed]",
      "text/plain": [
       "<Figure size 432x288 with 1 Axes>"
      ]
     },
     "metadata": {
      "needs_background": "light"
     },
     "output_type": "display_data"
    },
    {
     "data": {
      "image/png": "[encoded data removed]",
      "text/plain": [
       "<Figure size 432x288 with 1 Axes>"
      ]
     },
     "metadata": {
      "needs_background": "light"
     },
     "output_type": "display_data"
    }
   ],
   "source": [
    "#check variation in the different categories to pick features that we can learn from\n",
    "for f in [\"type\",\"new\",\"lease\",\"category\",\"status\"]:\n",
    "    counts = df.loc[:,[f]].apply(pd.Series.value_counts)\n",
    "    counts = (counts/counts.loc[:,f].sum())*100\n",
    "    \n",
    "    counts.plot(kind='bar',yticks=range(0,110,10))\n"
   ]
  },
  {
   "cell_type": "code",
   "execution_count": 21,
   "metadata": {},
   "outputs": [
    {
     "data": {
      "text/plain": [
       "<matplotlib.axes._subplots.AxesSubplot at 0x1a2c70db50>"
      ]
     },
     "execution_count": 21,
     "metadata": {},
     "output_type": "execute_result"
    },
    {
     "data": {
      "image/png": "[encoded data removed]",
      "text/plain": [
       "<Figure size 720x504 with 1 Axes>"
      ]
     },
     "metadata": {
      "needs_background": "light"
     },
     "output_type": "display_data"
    }
   ],
   "source": [
    "#check the spread in districts (london burroughs) as well\n",
    "distcnt = df.district.value_counts()\n",
    "distcnt = distcnt/distcnt.sum() * 100\n",
    "distcnt.plot(kind='bar',yticks=range(0,11,1),color=\"#2a5492\",figsize=(10,7),legend=True)    \n"
   ]
  },
  {
   "cell_type": "code",
   "execution_count": 23,
   "metadata": {},
   "outputs": [
    {
     "data": {
      "text/plain": [
       "(32134,)"
      ]
     },
     "execution_count": 23,
     "metadata": {},
     "output_type": "execute_result"
    }
   ],
   "source": [
    "#postcode is highly potent categorical feature to potentially capture lot of variation in home pricing - \n",
    "#however there are some data quality issues such as reallocation of postcodes which is not reflected back \n",
    "#into the current dataset\n",
    "#this is one of the longer term model optimization path - currently just check how many unique values are there\n",
    "df.postcode.unique().shape"
   ]
  },
  {
   "cell_type": "code",
   "execution_count": 24,
   "metadata": {},
   "outputs": [
    {
     "data": {
      "text/plain": [
       "<matplotlib.axes._subplots.AxesSubplot at 0x1a2a64a0d0>"
      ]
     },
     "execution_count": 24,
     "metadata": {},
     "output_type": "execute_result"
    },
    {
     "data": {
      "image/png": "[encoded data removed]",
      "text/plain": [
       "<Figure size 432x288 with 1 Axes>"
      ]
     },
     "metadata": {
      "needs_background": "light"
     },
     "output_type": "display_data"
    }
   ],
   "source": [
    "#check the dependent variable - home price - distribution\n",
    "#convert to a make it normal - if necessary\n",
    "#Histogram of price - skewed with long right tail\n",
    "df.price.plot.hist()\n"
   ]
  },
  {
   "cell_type": "code",
   "execution_count": 25,
   "metadata": {},
   "outputs": [
    {
     "data": {
      "text/plain": [
       "<matplotlib.axes._subplots.AxesSubplot at 0x1a3b829550>"
      ]
     },
     "execution_count": 25,
     "metadata": {},
     "output_type": "execute_result"
    },
    {
     "data": {
      "image/png": "[encoded data removed]",
      "text/plain": [
       "<Figure size 432x288 with 1 Axes>"
      ]
     },
     "metadata": {
      "needs_background": "light"
     },
     "output_type": "display_data"
    }
   ],
   "source": [
    "#Histogram shows a highly skewed distribution - which is expected for price. \n",
    "#Only handful would pay exceptionally high prices - while most will be in the lower bins paying average price.\n",
    "#A log transformation will convert price into a closer to normal distribution. \n",
    "#This can then be modeled as dependent variable\n",
    "#After making a forecast we undo log by passing thru exponential function\n",
    "\n",
    "df[\"logprice\"] = df.price.apply(mth.log)\n",
    "df.logprice.plot.hist()\n"
   ]
  },
  {
   "cell_type": "code",
   "execution_count": 26,
   "metadata": {},
   "outputs": [
    {
     "data": {
      "text/plain": [
       "<matplotlib.collections.PathCollection at 0x1a3b907790>"
      ]
     },
     "execution_count": 26,
     "metadata": {},
     "output_type": "execute_result"
    },
    {
     "data": {
      "image/png": "[encoded data removed]",
      "text/plain": [
       "<Figure size 432x288 with 1 Axes>"
      ]
     },
     "metadata": {
      "needs_background": "light"
     },
     "output_type": "display_data"
    }
   ],
   "source": [
    "#visualize raw and log trend over years\n",
    "plt.scatter(x=df.index,y=df.price)\n"
   ]
  },
  {
   "cell_type": "code",
   "execution_count": 27,
   "metadata": {},
   "outputs": [
    {
     "data": {
      "text/plain": [
       "<matplotlib.collections.PathCollection at 0x1a3ad31350>"
      ]
     },
     "execution_count": 27,
     "metadata": {},
     "output_type": "execute_result"
    },
    {
     "data": {
      "image/png": "[encoded data removed]",
      "text/plain": [
       "<Figure size 432x288 with 1 Axes>"
      ]
     },
     "metadata": {
      "needs_background": "light"
     },
     "output_type": "display_data"
    }
   ],
   "source": [
    "# Flat to slightly increasing trend over 2018\n",
    "plt.scatter(x=df.index,y=df.logprice)\n",
    "\n"
   ]
  },
  {
   "cell_type": "code",
   "execution_count": 28,
   "metadata": {},
   "outputs": [
    {
     "data": {
      "text/html": [
       "<div>\n",
       "<style scoped>\n",
       "    .dataframe tbody tr th:only-of-type {\n",
       "        vertical-align: middle;\n",
       "    }\n",
       "\n",
       "    .dataframe tbody tr th {\n",
       "        vertical-align: top;\n",
       "    }\n",
       "\n",
       "    .dataframe thead th {\n",
       "        text-align: right;\n",
       "    }\n",
       "</style>\n",
       "<table border=\"1\" class=\"dataframe\">\n",
       "  <thead>\n",
       "    <tr style=\"text-align: right;\">\n",
       "      <th></th>\n",
       "      <th>id</th>\n",
       "      <th>price</th>\n",
       "      <th>postcode</th>\n",
       "      <th>type</th>\n",
       "      <th>new</th>\n",
       "      <th>lease</th>\n",
       "      <th>paon</th>\n",
       "      <th>saon</th>\n",
       "      <th>street</th>\n",
       "      <th>locality</th>\n",
       "      <th>town</th>\n",
       "      <th>district</th>\n",
       "      <th>county</th>\n",
       "      <th>category</th>\n",
       "      <th>status</th>\n",
       "      <th>logprice</th>\n",
       "      <th>nyear</th>\n",
       "      <th>quarter</th>\n",
       "    </tr>\n",
       "    <tr>\n",
       "      <th>date</th>\n",
       "      <th></th>\n",
       "      <th></th>\n",
       "      <th></th>\n",
       "      <th></th>\n",
       "      <th></th>\n",
       "      <th></th>\n",
       "      <th></th>\n",
       "      <th></th>\n",
       "      <th></th>\n",
       "      <th></th>\n",
       "      <th></th>\n",
       "      <th></th>\n",
       "      <th></th>\n",
       "      <th></th>\n",
       "      <th></th>\n",
       "      <th></th>\n",
       "      <th></th>\n",
       "      <th></th>\n",
       "    </tr>\n",
       "  </thead>\n",
       "  <tbody>\n",
       "    <tr>\n",
       "      <td>2018-05-25</td>\n",
       "      <td>{7011B109-D879-8ED6-E053-6B04A8C075C1}</td>\n",
       "      <td>1205000</td>\n",
       "      <td>SW13 0NZ</td>\n",
       "      <td>T</td>\n",
       "      <td>N</td>\n",
       "      <td>F</td>\n",
       "      <td>6</td>\n",
       "      <td>NaN</td>\n",
       "      <td>CHARLES STREET</td>\n",
       "      <td>NaN</td>\n",
       "      <td>LONDON</td>\n",
       "      <td>RICHMOND UPON THAMES</td>\n",
       "      <td>GREATER LONDON</td>\n",
       "      <td>A</td>\n",
       "      <td>A</td>\n",
       "      <td>14.001990</td>\n",
       "      <td>0</td>\n",
       "      <td>2</td>\n",
       "    </tr>\n",
       "    <tr>\n",
       "      <td>2018-10-31</td>\n",
       "      <td>{7C2D0700-4940-4963-E053-6B04A8C07B97}</td>\n",
       "      <td>2461000</td>\n",
       "      <td>SW15 6NW</td>\n",
       "      <td>S</td>\n",
       "      <td>N</td>\n",
       "      <td>F</td>\n",
       "      <td>16</td>\n",
       "      <td>NaN</td>\n",
       "      <td>CAMPION ROAD</td>\n",
       "      <td>NaN</td>\n",
       "      <td>LONDON</td>\n",
       "      <td>WANDSWORTH</td>\n",
       "      <td>GREATER LONDON</td>\n",
       "      <td>A</td>\n",
       "      <td>A</td>\n",
       "      <td>14.716078</td>\n",
       "      <td>0</td>\n",
       "      <td>4</td>\n",
       "    </tr>\n",
       "  </tbody>\n",
       "</table>\n",
       "</div>"
      ],
      "text/plain": [
       "                                                id    price  postcode type  \\\n",
       "date                                                                         \n",
       "2018-05-25  {7011B109-D879-8ED6-E053-6B04A8C075C1}  1205000  SW13 0NZ    T   \n",
       "2018-10-31  {7C2D0700-4940-4963-E053-6B04A8C07B97}  2461000  SW15 6NW    S   \n",
       "\n",
       "           new lease paon saon          street locality    town  \\\n",
       "date                                                              \n",
       "2018-05-25   N     F    6  NaN  CHARLES STREET      NaN  LONDON   \n",
       "2018-10-31   N     F   16  NaN    CAMPION ROAD      NaN  LONDON   \n",
       "\n",
       "                        district          county category status   logprice  \\\n",
       "date                                                                          \n",
       "2018-05-25  RICHMOND UPON THAMES  GREATER LONDON        A      A  14.001990   \n",
       "2018-10-31            WANDSWORTH  GREATER LONDON        A      A  14.716078   \n",
       "\n",
       "            nyear  quarter  \n",
       "date                        \n",
       "2018-05-25      0        2  \n",
       "2018-10-31      0        4  "
      ]
     },
     "execution_count": 28,
     "metadata": {},
     "output_type": "execute_result"
    }
   ],
   "source": [
    "#nYear is a numeric feature that shows years since timeseries began. \n",
    "#Since each unit change in this feature is always equal to one year it is a numeric variable\n",
    "#This representation allows to forecast into future time periods as well.\n",
    "#df[\"year\"] = df.index.year\n",
    "df[\"nyear\"] = df.index.year - 2018\n",
    "df[\"quarter\"] = df.index.quarter\n",
    "df2row(df)"
   ]
  },
  {
   "cell_type": "code",
   "execution_count": 29,
   "metadata": {},
   "outputs": [
    {
     "data": {
      "text/html": [
       "<div>\n",
       "<style scoped>\n",
       "    .dataframe tbody tr th:only-of-type {\n",
       "        vertical-align: middle;\n",
       "    }\n",
       "\n",
       "    .dataframe tbody tr th {\n",
       "        vertical-align: top;\n",
       "    }\n",
       "\n",
       "    .dataframe thead th {\n",
       "        text-align: right;\n",
       "    }\n",
       "</style>\n",
       "<table border=\"1\" class=\"dataframe\">\n",
       "  <thead>\n",
       "    <tr style=\"text-align: right;\">\n",
       "      <th></th>\n",
       "      <th>type</th>\n",
       "      <th>new</th>\n",
       "      <th>lease</th>\n",
       "      <th>district</th>\n",
       "      <th>category</th>\n",
       "      <th>logprice</th>\n",
       "      <th>nyear</th>\n",
       "      <th>quarter</th>\n",
       "    </tr>\n",
       "    <tr>\n",
       "      <th>date</th>\n",
       "      <th></th>\n",
       "      <th></th>\n",
       "      <th></th>\n",
       "      <th></th>\n",
       "      <th></th>\n",
       "      <th></th>\n",
       "      <th></th>\n",
       "      <th></th>\n",
       "    </tr>\n",
       "  </thead>\n",
       "  <tbody>\n",
       "    <tr>\n",
       "      <td>2018-05-25</td>\n",
       "      <td>T</td>\n",
       "      <td>N</td>\n",
       "      <td>F</td>\n",
       "      <td>RICHMOND UPON THAMES</td>\n",
       "      <td>A</td>\n",
       "      <td>14.001990</td>\n",
       "      <td>0</td>\n",
       "      <td>2</td>\n",
       "    </tr>\n",
       "    <tr>\n",
       "      <td>2018-10-31</td>\n",
       "      <td>S</td>\n",
       "      <td>N</td>\n",
       "      <td>F</td>\n",
       "      <td>WANDSWORTH</td>\n",
       "      <td>A</td>\n",
       "      <td>14.716078</td>\n",
       "      <td>0</td>\n",
       "      <td>4</td>\n",
       "    </tr>\n",
       "  </tbody>\n",
       "</table>\n",
       "</div>"
      ],
      "text/plain": [
       "           type new lease              district category   logprice  nyear  \\\n",
       "date                                                                         \n",
       "2018-05-25    T   N     F  RICHMOND UPON THAMES        A  14.001990      0   \n",
       "2018-10-31    S   N     F            WANDSWORTH        A  14.716078      0   \n",
       "\n",
       "            quarter  \n",
       "date                 \n",
       "2018-05-25        2  \n",
       "2018-10-31        4  "
      ]
     },
     "execution_count": 29,
     "metadata": {},
     "output_type": "execute_result"
    }
   ],
   "source": [
    "#drop fields that are not candidates for independent variables/features such as address details that are too granular.\n",
    "#also drop the regular price and keep logprice instead\n",
    "#do it inplace to better manage memory\n",
    "df.drop(columns=[\"id\",\"price\",\"postcode\",\"paon\",\"saon\",\"street\",\"locality\",\"town\",\"county\",\n",
    "                \"status\"],inplace=True)\n",
    "df2row(df)"
   ]
  },
  {
   "cell_type": "code",
   "execution_count": 30,
   "metadata": {},
   "outputs": [
    {
     "name": "stdout",
     "output_type": "stream",
     "text": [
      "                     nyear      quarter       type         new      lease  \\\n",
      "IsCategorical        False         True       True        True       True   \n",
      "R2            -1.80282e-09 -4.59036e-06  0.0925876  0.00252878  0.0366001   \n",
      "MSE               0.932633     0.932637   0.846282    0.930274   0.898498   \n",
      "RankOrder             None         None       None        None       None   \n",
      "RankOrderp            None         None       None        None       None   \n",
      "\n",
      "                district  \n",
      "IsCategorical       True  \n",
      "R2             0.0775072  \n",
      "MSE             0.860347  \n",
      "RankOrder           None  \n",
      "RankOrderp          None  \n"
     ]
    }
   ],
   "source": [
    "# FEATURE SELECTION - BUILD UNIVARIATE MODELS AND PICK THE BEST FIT VARIABLES.\n",
    "\n",
    "candidatefeatures = [\"nyear\",\"quarter\",\"type\",\"new\",\"lease\",\"district\"]\n",
    "candidatefcategorical = [False, True, True, True, True, True]\n",
    "dependentfeature = \"logprice\"\n",
    "\n",
    "#for categorical variables - dummay coding ie dummy variables will be generated for each feature to test out.\n",
    "#lists to store coeff and perf measurements for models by individual candidate features\n",
    "featurecount = 0\n",
    "\n",
    "coeff = []\n",
    "mse = []\n",
    "r2 = []\n",
    "rankorder = []\n",
    "rankorderp = []\n",
    "\n",
    "# Build univariate models to identify most promising features.\n",
    "# Use the 3 most promising features to get the base model\n",
    "\n",
    "for feature, iscategorical in zip(candidatefeatures, candidatefcategorical):\n",
    "\n",
    "    Xlist = []\n",
    "    ylist = []\n",
    "\n",
    "    dset = df\n",
    "    \n",
    "    X = dset.loc[:,feature]\n",
    "    y = dset.logprice\n",
    "    \n",
    "    # internal stuff - handle weird behaviors of packages\n",
    "    X = pd.DataFrame({feature:X}) #series to dataframe\n",
    "    y = pd.DataFrame({dependentfeature:y})\n",
    "    \n",
    "    if iscategorical:\n",
    "        X = X[feature].apply(str) #so dummies will work always\n",
    "        # convert categorical feature into dummy coding and have k-1 categories as reqd for modeling.\n",
    "        X = pd.get_dummies(X,prefix=feature,drop_first=True)\n",
    "   \n",
    "    #train\n",
    "    Xlist.append(X.iloc[dset.index.month<10,:])\n",
    "    ylist.append(y.iloc[dset.index.month<10,:])\n",
    "    \n",
    "    #test\n",
    "    Xlist.append(X.iloc[dset.index.month>9,:])\n",
    "    ylist.append(y.iloc[dset.index.month>9,:])\n",
    "\n",
    "    \n",
    "    #instantiate and train a liner regression to estimate logprice\n",
    "    model=LinearRegression()\n",
    "    model.fit(Xlist[0],ylist[0])\n",
    "    ypred = model.predict(Xlist[1])\n",
    "\n",
    "    coeff.append(model.coef_)\n",
    "    mse.append(mean_squared_error(ylist[1], ypred))\n",
    "    r2.append(r2_score(ylist[1], ypred))\n",
    "\n",
    "\n",
    "featureseldf = pd.DataFrame([candidatefcategorical,r2,mse,rankorder,rankorderp],columns=candidatefeatures,\n",
    "                            index=[\"IsCategorical\",\"R2\",\"MSE\",\"RankOrder\",\"RankOrderp\"])\n",
    "print(featureseldf)\n"
   ]
  },
  {
   "cell_type": "code",
   "execution_count": 31,
   "metadata": {},
   "outputs": [
    {
     "name": "stdout",
     "output_type": "stream",
     "text": [
      "0.6963070373611756\n",
      "0.2533961334658762\n",
      "Index(['type_F', 'type_O', 'type_S', 'type_T', 'new_Y', 'lease_L',\n",
      "       'district_BARNET', 'district_BEXLEY', 'district_BRENT',\n",
      "       'district_BROMLEY', 'district_CAMDEN', 'district_CITY OF LONDON',\n",
      "       'district_CITY OF WESTMINSTER', 'district_CROYDON', 'district_EALING',\n",
      "       'district_ENFIELD', 'district_EPPING FOREST', 'district_GREENWICH',\n",
      "       'district_HACKNEY', 'district_HAMMERSMITH AND FULHAM',\n",
      "       'district_HARINGEY', 'district_HARLOW', 'district_HARROW',\n",
      "       'district_HILLINGDON', 'district_HOUNSLOW', 'district_ISLINGTON',\n",
      "       'district_KENSINGTON AND CHELSEA', 'district_KINGSTON UPON THAMES',\n",
      "       'district_LAMBETH', 'district_LEWISHAM', 'district_MERTON',\n",
      "       'district_NEWHAM', 'district_REDBRIDGE',\n",
      "       'district_RICHMOND UPON THAMES', 'district_SOUTHWARK',\n",
      "       'district_TOWER HAMLETS', 'district_WALTHAM FOREST',\n",
      "       'district_WANDSWORTH'],\n",
      "      dtype='object')\n",
      "[-0.4380381  -1.56962834 -0.47416594 -0.66940793  0.2826389  -0.86437041\n",
      "  0.46982635 -0.16587391  0.5339078   0.13947283  1.23683519  1.64008926\n",
      "  1.60284152  0.09594892  0.5936905   0.13710055  0.25138267  0.29650404\n",
      "  0.73568776  1.05239976  0.59351369  0.53188355 -0.26428721  1.07420784\n",
      "  0.88366154  0.89095146  1.69429964  0.44076037  0.71959268  0.26504463\n",
      "  0.64627196  0.30057078  0.42750733  0.89467299  0.72401787  0.67766241\n",
      "  0.210723    0.80716106]\n"
     ]
    }
   ],
   "source": [
    "# fit model to Type, district, Lease (Freehold/Leasehold), New/Old property\n",
    "# annual trend not applicable since training data has 1 year\n",
    "# quarterly seasonality is not useful in improving R2 or reducing MSE\n",
    "\n",
    "dset = pd.get_dummies(dset,\n",
    "                      prefix=[\"type\",\"new\",\"lease\",\"district\"],\n",
    "                      columns =  [\"type\",\"new\",\"lease\",\"district\"], \n",
    "                      drop_first=True)\n",
    "dset.drop(columns=[\"category\",\"nyear\",\"quarter\"],\n",
    "         inplace=True)\n",
    "\n",
    "X_train = dset[dset.index.month < 10].drop(columns=[\"logprice\"])\n",
    "y_train = dset[dset.index.month < 10].logprice\n",
    "\n",
    "X_test = dset[dset.index.month > 9].drop(columns=[\"logprice\"])\n",
    "y_test = dset[dset.index.month > 9].logprice\n",
    "\n",
    "#instantiate and train a liner regression to estimate logprice\n",
    "model=LinearRegression()\n",
    "model.fit(X_train,y_train)\n",
    "ypred = model.predict(X_test)\n",
    "\n",
    "print(mean_squared_error(y_test, ypred))\n",
    "print(r2_score(y_test, ypred))\n",
    "print(X_train.columns)\n",
    "print(model.coef_)\n"
   ]
  },
  {
   "cell_type": "code",
   "execution_count": 34,
   "metadata": {},
   "outputs": [
    {
     "data": {
      "text/html": [
       "<div>\n",
       "<style scoped>\n",
       "    .dataframe tbody tr th:only-of-type {\n",
       "        vertical-align: middle;\n",
       "    }\n",
       "\n",
       "    .dataframe tbody tr th {\n",
       "        vertical-align: top;\n",
       "    }\n",
       "\n",
       "    .dataframe thead th {\n",
       "        text-align: right;\n",
       "    }\n",
       "</style>\n",
       "<table border=\"1\" class=\"dataframe\">\n",
       "  <thead>\n",
       "    <tr style=\"text-align: right;\">\n",
       "      <th></th>\n",
       "      <th>type</th>\n",
       "      <th>new</th>\n",
       "      <th>lease</th>\n",
       "      <th>district</th>\n",
       "      <th>category</th>\n",
       "      <th>logprice</th>\n",
       "      <th>nyear</th>\n",
       "      <th>quarter</th>\n",
       "    </tr>\n",
       "    <tr>\n",
       "      <th>date</th>\n",
       "      <th></th>\n",
       "      <th></th>\n",
       "      <th></th>\n",
       "      <th></th>\n",
       "      <th></th>\n",
       "      <th></th>\n",
       "      <th></th>\n",
       "      <th></th>\n",
       "    </tr>\n",
       "  </thead>\n",
       "  <tbody>\n",
       "    <tr>\n",
       "      <td>2018-05-25</td>\n",
       "      <td>T</td>\n",
       "      <td>N</td>\n",
       "      <td>F</td>\n",
       "      <td>RICHMOND UPON THAMES</td>\n",
       "      <td>A</td>\n",
       "      <td>14.001990</td>\n",
       "      <td>0</td>\n",
       "      <td>2</td>\n",
       "    </tr>\n",
       "    <tr>\n",
       "      <td>2018-10-31</td>\n",
       "      <td>S</td>\n",
       "      <td>N</td>\n",
       "      <td>F</td>\n",
       "      <td>WANDSWORTH</td>\n",
       "      <td>A</td>\n",
       "      <td>14.716078</td>\n",
       "      <td>0</td>\n",
       "      <td>4</td>\n",
       "    </tr>\n",
       "  </tbody>\n",
       "</table>\n",
       "</div>"
      ],
      "text/plain": [
       "           type new lease              district category   logprice  nyear  \\\n",
       "date                                                                         \n",
       "2018-05-25    T   N     F  RICHMOND UPON THAMES        A  14.001990      0   \n",
       "2018-10-31    S   N     F            WANDSWORTH        A  14.716078      0   \n",
       "\n",
       "            quarter  \n",
       "date                 \n",
       "2018-05-25        2  \n",
       "2018-10-31        4  "
      ]
     },
     "execution_count": 34,
     "metadata": {},
     "output_type": "execute_result"
    }
   ],
   "source": [
    "df2row(df)"
   ]
  },
  {
   "cell_type": "code",
   "execution_count": 35,
   "metadata": {},
   "outputs": [],
   "source": [
    "####AUTOML TPOT\n",
    "# convert categorical feature into dummy coding and have k-1 categories as reqd for modeling.\n",
    "X = pd.get_dummies(df,drop_first=True)\n",
    "df2row(X)"
   ]
  },
  {
   "cell_type": "code",
   "execution_count": null,
   "metadata": {},
   "outputs": [],
   "source": [
    "#timeseries so carve out manually\n",
    "X_train = X[X.index.month < 10].drop(columns=[\"logprice\"])\n",
    "y_train = X[X.index.month < 10].logprice\n",
    "\n",
    "X_test = X[X.index.month > 9].drop(columns=[\"logprice\"])\n",
    "y_test = X[X.index.month > 9].logprice\n"
   ]
  },
  {
   "cell_type": "code",
   "execution_count": 36,
   "metadata": {},
   "outputs": [
    {
     "name": "stdout",
     "output_type": "stream",
     "text": [
      "Warning: xgboost.XGBRegressor is not available and will not be used by TPOT.\n"
     ]
    },
    {
     "data": {
      "application/vnd.jupyter.widget-view+json": {
       "model_id": "e6c0d5e9a2ae4adb9d66a5a13824ad22",
       "version_major": 2,
       "version_minor": 0
      },
      "text/plain": [
       "HBox(children=(IntProgress(value=0, description='Optimization Progress', max=600, style=ProgressStyle(descript…"
      ]
     },
     "metadata": {},
     "output_type": "display_data"
    },
    {
     "name": "stdout",
     "output_type": "stream",
     "text": [
      "\n",
      "\n",
      "TPOT closed during evaluation in one generation.\n",
      "WARNING: TPOT may not provide a good pipeline if TPOT is stopped/interrupted in a early generation.\n",
      "\n",
      "\n",
      "TPOT closed prematurely. Will use the current best pipeline.\n",
      "\n",
      "Best pipeline: ExtraTreesRegressor(LassoLarsCV(input_matrix, normalize=True), bootstrap=True, max_features=0.3, min_samples_leaf=20, min_samples_split=2, n_estimators=100)\n",
      "0.2793089749641007\n"
     ]
    }
   ],
   "source": [
    "import tpot\n",
    "\n",
    "tpotm = tpot.TPOTRegressor(generations=5, population_size=100, verbosity=2,\n",
    "                          scoring='r2')\n",
    "tpotm.fit(X_train, y_train)\n",
    "print(tpotm.score(X_test, y_test))\n",
    "tpotm.export('tpot_boston_pipeline.py')\n"
   ]
  },
  {
   "cell_type": "code",
   "execution_count": null,
   "metadata": {},
   "outputs": [],
   "source": []
  }
 ],
 "metadata": {
  "kernelspec": {
   "display_name": "Python 3",
   "language": "python",
   "name": "python3"
  },
  "language_info": {
   "codemirror_mode": {
    "name": "ipython",
    "version": 3
   },
   "file_extension": ".py",
   "mimetype": "text/x-python",
   "name": "python",
   "nbconvert_exporter": "python",
   "pygments_lexer": "ipython3",
   "version": "3.7.4"
  }
 },
 "nbformat": 4,
 "nbformat_minor": 2
}
